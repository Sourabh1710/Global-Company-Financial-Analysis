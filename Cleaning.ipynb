{
 "cells": [
  {
   "cell_type": "code",
   "execution_count": 3,
   "id": "75ee4950-4d9e-45e8-b11d-c7805ee4096f",
   "metadata": {},
   "outputs": [
    {
     "name": "stdout",
     "output_type": "stream",
     "text": [
      "✅ Cleaned data saved as: financials_cleaned_Q1_Q2_2025.csv\n"
     ]
    }
   ],
   "source": [
    "import pandas as pd\n",
    "\n",
    "# Load your existing pivot file\n",
    "df = pd.read_csv(\"financials_Q1_Q2_2025.csv\")\n",
    "\n",
    "# Fix duplicate or missing values\n",
    "# For Net Income: if one tag is missing, use the other\n",
    "df['Net_Income_Final'] = df[['Net_Income']].bfill(axis=1).iloc[:, 0]\n",
    "\n",
    "# For Revenue: if one tag is missing, fill with alternative columns if available\n",
    "# Add similar logic if you had multiple revenue tags\n",
    "df['Revenue_Final'] = df['Revenue']\n",
    "\n",
    "# Drop old columns and keep only final cleaned values\n",
    "df_clean = df[['name', 'period', 'EPS_Basic', 'EPS_Diluted', 'Net_Income_Final', 'Revenue_Final']]\n",
    "df_clean = df_clean.rename(columns={\n",
    "    'Net_Income_Final': 'Net_Income',\n",
    "    'Revenue_Final': 'Revenue'\n",
    "})\n",
    "\n",
    "# Save final cleaned dataset\n",
    "df_clean.to_csv(\"financials_cleaned_Q1_Q2_2025.csv\", index=False)\n",
    "print(\"✅ Cleaned data saved as: financials_cleaned_Q1_Q2_2025.csv\")\n"
   ]
  },
  {
   "cell_type": "code",
   "execution_count": 8,
   "id": "16d0e9a4-1bbf-4667-b8d8-4e1617f23ff4",
   "metadata": {},
   "outputs": [
    {
     "name": "stdout",
     "output_type": "stream",
     "text": [
      "✅ Cleaned data saved as: final_clean_financials_Q1_Q2_2025.csv\n"
     ]
    }
   ],
   "source": [
    "# === Set up ===\n",
    "folders = [\"2025q1\", \"2025q2\"]\n",
    "sub_files = [f\"{folder}/sub.txt\" for folder in folders]\n",
    "num_files = [f\"{folder}/num.txt\" for folder in folders]\n",
    "\n",
    "# Companies to extract\n",
    "target_names = [\n",
    "    \"ALPHABET INC.\", \"BLACKSTONE INC.\", \"DELL TECHNOLOGIES INC.\",\n",
    "    \"GOLDMAN SACHS GROUP INC\", \"WARNER BROS. DISCOVERY, INC.\"\n",
    "]\n",
    "\n",
    "# XBRL Tags for Financial Metrics\n",
    "revenue_tags = [\n",
    "    'Revenues', 'RevenuesNet', 'SalesRevenueNet', 'SalesRevenueServicesNet'\n",
    "]\n",
    "net_income_tags = ['NetIncomeLoss', 'ProfitLoss']\n",
    "eps_tags = ['EarningsPerShareBasic', 'EarningsPerShareDiluted']\n",
    "\n",
    "all_tags = revenue_tags + net_income_tags + eps_tags\n",
    "\n",
    "# === Extract + Merge ===\n",
    "combined = []\n",
    "\n",
    "for sub_file, num_file in zip(sub_files, num_files):\n",
    "    sub = pd.read_csv(sub_file, sep='\\t', low_memory=False)\n",
    "    num = pd.read_csv(num_file, sep='\\t', low_memory=False)\n",
    "\n",
    "    # Filter to target companies\n",
    "    sub = sub[sub['name'].isin(target_names)]\n",
    "    num = num[num['tag'].isin(all_tags)]\n",
    "\n",
    "    # Merge to get company + period info\n",
    "    merged = pd.merge(num, sub[['adsh', 'name', 'period']], on='adsh')\n",
    "    filtered = merged[['name', 'period', 'tag', 'value']]\n",
    "    combined.append(filtered)\n",
    "\n",
    "# Combine all quarters\n",
    "all_df = pd.concat(combined, ignore_index=True)\n",
    "\n",
    "# === Pivot ===\n",
    "pivot = all_df.pivot_table(index=['name', 'period'], columns='tag', values='value', aggfunc='first').reset_index()\n",
    "\n",
    "# === Safe fallback for tag groups ===\n",
    "available_revenue_tags = [tag for tag in revenue_tags if tag in pivot.columns]\n",
    "available_net_income_tags = [tag for tag in net_income_tags if tag in pivot.columns]\n",
    "\n",
    "pivot['Revenue'] = pivot[available_revenue_tags].bfill(axis=1).iloc[:, 0] if available_revenue_tags else None\n",
    "pivot['Net_Income'] = pivot[available_net_income_tags].bfill(axis=1).iloc[:, 0] if available_net_income_tags else None\n",
    "pivot['EPS_Basic'] = pivot['EarningsPerShareBasic'] if 'EarningsPerShareBasic' in pivot.columns else None\n",
    "pivot['EPS_Diluted'] = pivot['EarningsPerShareDiluted'] if 'EarningsPerShareDiluted' in pivot.columns else None\n",
    "\n",
    "# === Final Cleaned Output ===\n",
    "final_df = pivot[['name', 'period', 'EPS_Basic', 'EPS_Diluted', 'Net_Income', 'Revenue']]\n",
    "final_df.to_csv(\"final_clean_financials_Q1_Q2_2025.csv\", index=False)\n",
    "print(\"✅ Cleaned data saved as: final_clean_financials_Q1_Q2_2025.csv\")\n"
   ]
  },
  {
   "cell_type": "code",
   "execution_count": null,
   "id": "1f22ab8d-97d5-4b8c-9526-0f881881082c",
   "metadata": {},
   "outputs": [],
   "source": []
  }
 ],
 "metadata": {
  "kernelspec": {
   "display_name": "Python 3 (ipykernel)",
   "language": "python",
   "name": "python3"
  },
  "language_info": {
   "codemirror_mode": {
    "name": "ipython",
    "version": 3
   },
   "file_extension": ".py",
   "mimetype": "text/x-python",
   "name": "python",
   "nbconvert_exporter": "python",
   "pygments_lexer": "ipython3",
   "version": "3.13.0"
  }
 },
 "nbformat": 4,
 "nbformat_minor": 5
}
